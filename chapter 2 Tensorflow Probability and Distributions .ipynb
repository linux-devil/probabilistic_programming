{
 "cells": [
  {
   "cell_type": "code",
   "execution_count": 1,
   "metadata": {},
   "outputs": [],
   "source": [
    "from __future__ import absolute_import, division, print_function\n",
    "\n",
    "#@markdown This sets the warning status (default is `ignore`, since this notebook runs correctly)\n",
    "warning_status = \"ignore\" #@param [\"ignore\", \"always\", \"module\", \"once\", \"default\", \"error\"]\n",
    "import warnings\n",
    "warnings.filterwarnings(warning_status)\n",
    "with warnings.catch_warnings():\n",
    "    warnings.filterwarnings(warning_status, category=DeprecationWarning)\n",
    "    warnings.filterwarnings(warning_status, category=UserWarning)\n",
    "\n",
    "import numpy as np\n",
    "import os\n",
    "#@markdown This sets the styles of the plotting (default is styled like plots from [FiveThirtyeight.com](https://fivethirtyeight.com/))\n",
    "matplotlib_style = 'fivethirtyeight' #@param ['fivethirtyeight', 'bmh', 'ggplot', 'seaborn', 'default', 'Solarize_Light2', 'classic', 'dark_background', 'seaborn-colorblind', 'seaborn-notebook']\n",
    "import matplotlib.pyplot as plt; plt.style.use(matplotlib_style)\n",
    "import matplotlib.axes as axes;\n",
    "from matplotlib.patches import Ellipse\n",
    "%matplotlib inline\n",
    "import seaborn as sns; sns.set_context('notebook')\n",
    "from IPython.core.pylabtools import figsize\n",
    "#@markdown This sets the resolution of the plot outputs (`retina` is the highest resolution)\n",
    "notebook_screen_res = 'retina' #@param ['retina', 'png', 'jpeg', 'svg', 'pdf']\n",
    "%config InlineBackend.figure_format = notebook_screen_res\n",
    "\n",
    "import tensorflow as tf\n",
    "\n",
    "# Eager Execution\n",
    "#@markdown Check the box below if you want to use [Eager Execution](https://www.tensorflow.org/guide/eager)\n",
    "#@markdown Eager execution provides An intuitive interface, Easier debugging, and a control flow comparable to Numpy. You can read more about it on the [Google AI Blog](https://ai.googleblog.com/2017/10/eager-execution-imperative-define-by.html)\n",
    "use_tf_eager = False #@param {type:\"boolean\"} # As everything is eager by default in tf 2.0 \n",
    "\n",
    "\n",
    "import tensorflow_probability as tfp\n",
    "tfd = tfp.distributions\n",
    "tfb = tfp.bijectors\n",
    "\n",
    "  \n",
    "def evaluate(tensors):\n",
    "    \"\"\"Evaluates Tensor or EagerTensor to Numpy `ndarray`s.\n",
    "    Args:\n",
    "    tensors: Object of `Tensor` or EagerTensor`s; can be `list`, `tuple`,\n",
    "      `namedtuple` or combinations thereof.\n",
    " \n",
    "    Returns:\n",
    "      ndarrays: Object with same structure as `tensors` except with `Tensor` or\n",
    "        `EagerTensor`s replaced by Numpy `ndarray`s.\n",
    "    \"\"\"\n",
    "    if tf.executing_eagerly():\n",
    "        return tf.contrib.framework.nest.pack_sequence_as(\n",
    "            tensors,\n",
    "            [t.numpy() if tf.contrib.framework.is_tensor(t) else t\n",
    "             for t in tf.contrib.framework.nest.flatten(tensors)])\n",
    "    return sess.run(tensors)\n",
    "\n",
    "class _TFColor(object):\n",
    "    \"\"\"Enum of colors used in TF docs.\"\"\"\n",
    "    red = '#F15854'\n",
    "    blue = '#5DA5DA'\n",
    "    orange = '#FAA43A'\n",
    "    green = '#60BD68'\n",
    "    pink = '#F17CB0'\n",
    "    brown = '#B2912F'\n",
    "    purple = '#B276B2'\n",
    "    yellow = '#DECF3F'\n",
    "    gray = '#4D4D4D'\n",
    "    def __getitem__(self, i):\n",
    "        return [\n",
    "            self.red,\n",
    "            self.orange,\n",
    "            self.green,\n",
    "            self.blue,\n",
    "            self.pink,\n",
    "            self.brown,\n",
    "            self.purple,\n",
    "            self.yellow,\n",
    "            self.gray,\n",
    "        ][i % 9]\n",
    "TFColor = _TFColor()\n",
    "\n",
    "def session_options(enable_gpu_ram_resizing=True, enable_xla=False):\n",
    "    \"\"\"\n",
    "    Allowing the notebook to make use of GPUs if they're available.\n",
    "    \n",
    "    XLA (Accelerated Linear Algebra) is a domain-specific compiler for linear \n",
    "    algebra that optimizes TensorFlow computations.\n",
    "    \"\"\"\n",
    "    config = tf.compat.v1.ConfigProto()\n",
    "    config.log_device_placement = True\n",
    "    if enable_gpu_ram_resizing:\n",
    "        # `allow_growth=True` makes it possible to connect multiple colabs to your\n",
    "        # GPU. Otherwise the colab malloc's all GPU ram.\n",
    "        config.gpu_options.allow_growth = True\n",
    "    if enable_xla:\n",
    "        # Enable on XLA. https://www.tensorflow.org/performance/xla/.\n",
    "        config.graph_options.optimizer_options.global_jit_level = (\n",
    "            tf.OptimizerOptions.ON_1)\n",
    "    return config\n",
    "\n",
    "\n",
    "def reset_sess(config=None):\n",
    "    \"\"\"\n",
    "    Convenience function to create the TF graph & session or reset them.\n",
    "    \"\"\"\n",
    "    if config is None:\n",
    "        config = session_options(enable_gpu_ram_resizing=True, enable_xla=False)\n",
    "    global sess\n",
    "    tf.compat.v1.reset_default_graph()\n",
    "    try:\n",
    "        sess.close()\n",
    "    except:\n",
    "        pass\n",
    "    sess = tf.compat.v1.InteractiveSession(config=config)\n",
    "\n",
    "reset_sess()"
   ]
  },
  {
   "cell_type": "code",
   "execution_count": 2,
   "metadata": {},
   "outputs": [
    {
     "name": "stdout",
     "output_type": "stream",
     "text": [
      "tf.Tensor(1.3617641, shape=(), dtype=float32)\n",
      "tfp.distributions.Poisson(\"data_generator/\", batch_shape=[], event_shape=[], dtype=float32)\n",
      "tf.Tensor(1.0, shape=(), dtype=float32)\n",
      "Value of sample from data generator random variable: 1.0\n"
     ]
    }
   ],
   "source": [
    "\n",
    "\n",
    "parameter = tfd.Exponential(rate=1., name=\"poisson_param\").sample()\n",
    "print(parameter)\n",
    "rv_data_generator = tfd.Poisson(parameter, name=\"data_generator\")\n",
    "print(rv_data_generator)\n",
    "data_generator = rv_data_generator.sample()\n",
    "print(data_generator)\n",
    "if tf.executing_eagerly():\n",
    "    data_generator_ = tf.nest.pack_sequence_as(\n",
    "        data_generator,\n",
    "        [t.numpy() if tf.is_tensor(t) else t\n",
    "         for t in tf.nest.flatten(data_generator)])\n",
    "else:\n",
    "    data_generator_ = sess.run(data_generator)\n",
    "    \n",
    "print(\"Value of sample from data generator random variable:\", data_generator_)\n",
    "\n"
   ]
  },
  {
   "cell_type": "code",
   "execution_count": 3,
   "metadata": {},
   "outputs": [],
   "source": [
    "def evaluate(tensors):\n",
    "    if tf.executing_eagerly():\n",
    "         return tf.nest.pack_sequence_as(\n",
    "             tensors,\n",
    "             [t.numpy() if tf.is_tensor(t) else t\n",
    "             for t in tf.nest.flatten(tensors)])\n",
    "    with tf.Session() as sess:\n",
    "        return sess.run(tensors)"
   ]
  },
  {
   "cell_type": "code",
   "execution_count": 4,
   "metadata": {},
   "outputs": [
    {
     "name": "stdout",
     "output_type": "stream",
     "text": [
      "Sample from exponential distribution before evaluation:  tf.Tensor(1.0964648, shape=(), dtype=float32)\n",
      "Evaluated sample from exponential distribution:  1.0964648\n"
     ]
    }
   ],
   "source": [
    "# Defining our Assumptions\n",
    "parameter = tfd.Exponential(rate=1., name=\"poisson_param\").sample()\n",
    "\n",
    "# Converting our TF to Numpy\n",
    "[ parameter_ ] = evaluate([ parameter ])\n",
    "\n",
    "print(\"Sample from exponential distribution before evaluation: \", parameter)\n",
    "print(\"Evaluated sample from exponential distribution: \", parameter_)"
   ]
  },
  {
   "cell_type": "code",
   "execution_count": 5,
   "metadata": {},
   "outputs": [
    {
     "name": "stdout",
     "output_type": "stream",
     "text": [
      "'parameter_' evaluated Tensor : 1.0964648\n",
      "'data_generator_' sample evaluated Tensor : 1.0\n"
     ]
    }
   ],
   "source": [
    "\n",
    "\n",
    "[ \n",
    "    parameter_,\n",
    "    data_generator_,\n",
    "] = evaluate([ \n",
    "    parameter, \n",
    "    data_generator,\n",
    "])\n",
    "\n",
    "print(\"'parameter_' evaluated Tensor :\", parameter_)\n",
    "print(\"'data_generator_' sample evaluated Tensor :\", data_generator_)\n",
    "\n"
   ]
  },
  {
   "cell_type": "code",
   "execution_count": 8,
   "metadata": {},
   "outputs": [
    {
     "name": "stdout",
     "output_type": "stream",
     "text": [
      "tf.Tensor(1.5513742, shape=(), dtype=float32)\n",
      "tf.Tensor(0.24573523, shape=(), dtype=float32)\n",
      "tfp.distributions.Deterministic(\"deterministic_variable/\", batch_shape=[], event_shape=[], dtype=float32)\n"
     ]
    }
   ],
   "source": [
    "\n",
    "\n",
    "lambda_1 = tfd.Exponential(rate=1., name=\"lambda_1\") #stochastic variable\n",
    "lambda_2 = tfd.Exponential(rate=1., name=\"lambda_2\") #stochastic variable\n",
    "tau = tfd.Uniform(name=\"tau\", low=0., high=10.) #stochastic variable\n",
    "\n",
    "# deterministic variable since we are getting results of lambda's after sampling    \n",
    "new_deterministic_variable = tfd.Deterministic(name=\"deterministic_variable\", \n",
    "                                               loc=(lambda_1.sample() + lambda_2.sample()))\n",
    "print(lambda_1.sample())\n",
    "print(lambda_2.sample())\n",
    "print(new_deterministic_variable)"
   ]
  },
  {
   "cell_type": "code",
   "execution_count": 35,
   "metadata": {},
   "outputs": [
    {
     "name": "stdout",
     "output_type": "stream",
     "text": [
      "[0 1 2 3 4]\n",
      "tf.Tensor(8.163813, shape=(), dtype=float32)\n",
      "tf.Tensor(0.98311496, shape=(), dtype=float32)\n",
      "tf.Tensor(0.12876458, shape=(), dtype=float32)\n",
      "5 samples from our deterministic lambda model: \n",
      " [0.14412032 0.14412032 0.14412032 0.14412032 0.14412032]\n",
      "5 samples from our deterministic lambda model: \n",
      " [0.14412032 0.14412032 0.14412032 0.14412032 0.14412032]\n"
     ]
    }
   ],
   "source": [
    "# Build graph\n",
    "# days\n",
    "n_data_points = 5  # in CH1 we had ~70 data points\n",
    "idx = np.arange(n_data_points)\n",
    "print(idx)\n",
    "print(tau.sample())\n",
    "print(lambda_1.sample())\n",
    "print(lambda_2.sample())\n",
    "# for n_data_points samples, select from lambda_2 if sampled tau >= day value, lambda_1 otherwise\n",
    "rv_lambda_deterministic = tfd.Deterministic(tf.gather([lambda_1.sample(), lambda_2.sample()],\n",
    "                    indices=tf.compat.v1.to_int32(tau.sample() >= idx)))\n",
    "\n",
    "lambda_deterministic = rv_lambda_deterministic.sample()\n",
    "# Execute graph\n",
    "[lambda_deterministic_] = evaluate([lambda_deterministic])\n",
    "# Show results\n",
    "print(\"{} samples from our deterministic lambda model: \\n\".format(n_data_points), lambda_deterministic_ )\n",
    "\n",
    "lambda_deterministic = rv_lambda_deterministic.sample()\n",
    "[lambda_deterministic_] = evaluate([lambda_deterministic])\n",
    "# Show results\n",
    "print(\"{} samples from our deterministic lambda model: \\n\".format(n_data_points), lambda_deterministic_ )\n",
    "\n"
   ]
  },
  {
   "cell_type": "code",
   "execution_count": 36,
   "metadata": {},
   "outputs": [
    {
     "data": {
      "image/png": "[encoded data removed]",
      "text/plain": [
       "<Figure size 900x360 with 1 Axes>"
      ]
     },
     "metadata": {
      "image/png": {
       "height": 322,
       "width": 828
      },
      "needs_background": "light"
     },
     "output_type": "display_data"
    }
   ],
   "source": [
    "rv_lambda_1 = tfd.Exponential(rate=1., name=\"lambda_1\")\n",
    "lambda_1 = rv_lambda_1.sample(sample_shape=20000)\n",
    "    \n",
    "# Execute graph, convert TF to NumPy\n",
    "[ lambda_1_ ] = evaluate([ lambda_1 ])\n",
    "\n",
    "# Visualize our stepwise prior distribution\n",
    "plt.figure(figsize(12.5, 5))\n",
    "plt.hist(lambda_1_, bins=70, normed=True, histtype=\"stepfilled\")\n",
    "plt.title(r\"Prior distribution for $\\lambda_1$\")\n",
    "plt.xlim(0, 8);\n",
    "\n"
   ]
  },
  {
   "cell_type": "code",
   "execution_count": 39,
   "metadata": {},
   "outputs": [
    {
     "name": "stdout",
     "output_type": "stream",
     "text": [
      "tf.Tensor(0.0, shape=(), dtype=float32)\n",
      "two predetermined data points:  [10.  5.]\n",
      "\n",
      " mean of our data:  7.5\n",
      "\n",
      " random sample from poisson distribution \n",
      " with the mean as the poisson's rate: \n",
      " 0.0\n"
     ]
    }
   ],
   "source": [
    "# Build graph\n",
    "data = tf.constant([10., 5.], dtype=tf.float32)\n",
    "rv_poisson = tfd.Poisson(rate=1./tf.reduce_mean(data))\n",
    "poisson = rv_poisson.sample()\n",
    "print(poisson)\n",
    "# Execute graph\n",
    "[ data_, poisson_, ] = evaluate([ data, poisson ])\n",
    "\n",
    "# Show results\n",
    "print(\"two predetermined data points: \", data_)\n",
    "print(\"\\n mean of our data: \", np.mean(data_))\n",
    "print(\"\\n random sample from poisson distribution \\n with the mean as the poisson's rate: \\n\", poisson_)\n"
   ]
  },
  {
   "cell_type": "code",
   "execution_count": 51,
   "metadata": {},
   "outputs": [
    {
     "name": "stdout",
     "output_type": "stream",
     "text": [
      "Value of Tau (randomly taken from DiscreteUniform(0, 80)): [75]\n"
     ]
    }
   ],
   "source": [
    "tau = tf.compat.v1.random_uniform(shape=[1], minval=0, maxval=80, dtype=tf.int32)\n",
    "\n",
    "[ tau_ ] = evaluate([ tau ])\n",
    "\n",
    "print(\"Value of Tau (randomly taken from DiscreteUniform(0, 80)):\", tau_)"
   ]
  },
  {
   "cell_type": "code",
   "execution_count": 52,
   "metadata": {},
   "outputs": [
    {
     "name": "stdout",
     "output_type": "stream",
     "text": [
      "Lambda 1 (randomly taken from Gamma(α) distribution):  20.582647\n",
      "Lambda 2 (randomly taken from Gamma(α) distribution):  23.258606\n"
     ]
    }
   ],
   "source": [
    "alpha = 1./8.\n",
    "\n",
    "lambdas  = tfd.Gamma(concentration=1/alpha, rate=0.3).sample(sample_shape=[2])  \n",
    "[ lambda_1_, lambda_2_ ] = evaluate( lambdas )\n",
    "print(\"Lambda 1 (randomly taken from Gamma(α) distribution): \", lambda_1_)\n",
    "print(\"Lambda 2 (randomly taken from Gamma(α) distribution): \", lambda_2_)"
   ]
  },
  {
   "cell_type": "code",
   "execution_count": 53,
   "metadata": {},
   "outputs": [
    {
     "name": "stdout",
     "output_type": "stream",
     "text": [
      "Artificial day-by-day user SMS count created by sampling: \n",
      " [21. 16. 17. 15. 14. 17. 20. 22. 20. 16. 23. 18. 28. 23. 22. 21. 20. 19.\n",
      " 23. 27. 16. 15. 17. 15. 21. 19. 15. 18. 23. 20. 29. 26. 15. 32. 17. 23.\n",
      " 17. 13. 25. 22. 23. 26. 17. 22. 26. 28. 17. 23. 19. 20. 24. 22. 12. 33.\n",
      " 19.  8. 24. 15. 12. 20. 14. 31. 21. 19. 27. 23. 14. 20. 25. 19. 20. 16.\n",
      " 29. 24. 19. 20. 21. 22. 26. 24.]\n"
     ]
    }
   ],
   "source": [
    "data = tf.concat([tfd.Poisson(rate=lambda_1_).sample(sample_shape=tau_),\n",
    "                      tfd.Poisson(rate=lambda_2_).sample(sample_shape= (80 - tau_))], axis=0)\n",
    "days_range = tf.range(80)\n",
    "[ data_, days_range_ ] = evaluate([ data, days_range ])\n",
    "print(\"Artificial day-by-day user SMS count created by sampling: \\n\", data_)"
   ]
  },
  {
   "cell_type": "code",
   "execution_count": 54,
   "metadata": {},
   "outputs": [
    {
     "data": {
      "image/png": "[encoded data removed]",
      "text/plain": [
       "<Figure size 900x360 with 1 Axes>"
      ]
     },
     "metadata": {
      "image/png": {
       "height": 337,
       "width": 843
      },
      "needs_background": "light"
     },
     "output_type": "display_data"
    }
   ],
   "source": [
    "\n",
    "\n",
    "plt.bar(days_range_, data_, color=TFColor[3])\n",
    "plt.bar(tau_ - 1, data_[tau_ - 1], color=\"r\", label=\"user behaviour changed\")\n",
    "plt.xlabel(\"Time (days)\")\n",
    "plt.ylabel(\"count of text-msgs received\")\n",
    "plt.title(\"Artificial dataset\")\n",
    "plt.xlim(0, 80)\n",
    "plt.legend();\n",
    "\n"
   ]
  },
  {
   "cell_type": "code",
   "execution_count": 63,
   "metadata": {},
   "outputs": [
    {
     "data": {
      "image/png": "[encoded data removed]",
      "text/plain": [
       "<Figure size 900x576 with 4 Axes>"
      ]
     },
     "metadata": {
      "image/png": {
       "height": 468,
       "width": 827
      },
      "needs_background": "light"
     },
     "output_type": "display_data"
    }
   ],
   "source": [
    "def plot_artificial_sms_dataset():   \n",
    "    tau = tf.compat.v1.random_uniform(shape=[1], \n",
    "                            minval=0, \n",
    "                            maxval=80,\n",
    "                            dtype=tf.int32)\n",
    "    alpha = 1./8.\n",
    "    lambdas  = tfd.Gamma(concentration=1/alpha, rate=0.3).sample(sample_shape=[2]) \n",
    "    [ lambda_1_, lambda_2_ ] = evaluate( lambdas )\n",
    "    data = tf.concat([tfd.Poisson(rate=lambda_1_).sample(sample_shape=tau),\n",
    "                      tfd.Poisson(rate=lambda_2_).sample(sample_shape= (80 - tau))], axis=0)\n",
    "    days_range = tf.range(80)\n",
    "    \n",
    "    [ \n",
    "        tau_,\n",
    "        data_,\n",
    "        days_range_,\n",
    "    ] = evaluate([ \n",
    "        tau,\n",
    "        data,\n",
    "        days_range,\n",
    "    ])\n",
    "    \n",
    "    plt.bar(days_range_, data_, color=TFColor[3])\n",
    "    plt.bar(tau_ - 1, data_[tau_ - 1], color=\"r\", label=\"user behaviour changed\")\n",
    "    plt.xlim(0, 80);\n",
    "\n",
    "plt.figure(figsize(12.5, 8))\n",
    "for i in range(4):\n",
    "    plt.subplot(4, 1, i+1)\n",
    "    plot_artificial_sms_dataset()\n",
    "\n"
   ]
  },
  {
   "cell_type": "code",
   "execution_count": 64,
   "metadata": {},
   "outputs": [],
   "source": [
    "\n",
    "\n",
    "reset_sess()\n",
    "\n",
    "# The parameters are the bounds of the Uniform.\n",
    "rv_p = tfd.Uniform(low=0., high=1., name='p')\n",
    "\n"
   ]
  },
  {
   "cell_type": "code",
   "execution_count": 65,
   "metadata": {},
   "outputs": [
    {
     "name": "stdout",
     "output_type": "stream",
     "text": [
      "Array of 1500 Occurences: [0 0 0 ... 0 1 0]\n",
      "(Remember: Python treats True == 1, and False == 0)\n",
      "Sum of (True == 1) Occurences: 76\n"
     ]
    }
   ],
   "source": [
    "reset_sess()\n",
    "\n",
    "#set constants\n",
    "prob_true = 0.05  # remember, this is unknown.\n",
    "N = 1500\n",
    "\n",
    "# sample N Bernoulli random variables from Ber(0.05).\n",
    "# each random variable has a 0.05 chance of being a 1.\n",
    "# this is the data-generation step\n",
    "\n",
    "occurrences = tfd.Bernoulli(probs=prob_true).sample(sample_shape=N, seed=10)\n",
    "occurrences_sum = tf.reduce_sum(occurrences)\n",
    "occurrences_mean = tf.reduce_mean(tf.cast(occurrences,tf.float32))\n",
    "\n",
    "[ \n",
    "    occurrences_,\n",
    "    occurrences_sum_,\n",
    "    occurrences_mean_,\n",
    "] = evaluate([ \n",
    "    occurrences, \n",
    "    occurrences_sum,\n",
    "    occurrences_mean,\n",
    "])\n",
    "\n",
    "print(\"Array of {} Occurences:\".format(N), occurrences_) \n",
    "print(\"(Remember: Python treats True == 1, and False == 0)\")\n",
    "print(\"Sum of (True == 1) Occurences:\", occurrences_sum_)"
   ]
  },
  {
   "cell_type": "code",
   "execution_count": 66,
   "metadata": {},
   "outputs": [
    {
     "name": "stdout",
     "output_type": "stream",
     "text": [
      "What is the observed frequency in Group A? 0.0507\n",
      "Does this equal the true frequency? False\n"
     ]
    }
   ],
   "source": [
    "# Occurrences.mean is equal to n/N.\n",
    "print(\"What is the observed frequency in Group A? %.4f\" % occurrences_mean_)\n",
    "print(\"Does this equal the true frequency? %s\" % (occurrences_mean_ == prob_true))"
   ]
  },
  {
   "cell_type": "code",
   "execution_count": 67,
   "metadata": {},
   "outputs": [],
   "source": [
    "\n",
    "\n",
    "def joint_log_prob(occurrences, prob_A):\n",
    "    \"\"\"\n",
    "    Joint log probability optimization function.\n",
    "        \n",
    "    Args:\n",
    "      occurrences: An array of binary values (0 & 1), representing \n",
    "                   the observed frequency\n",
    "      prob_A: scalar estimate of the probability of a 1 appearing \n",
    "    Returns: \n",
    "      sum of the joint log probabilities from all of the prior and conditional distributions\n",
    "    \"\"\"  \n",
    "    rv_prob_A = tfd.Uniform(low=0., high=1.)\n",
    "    rv_occurrences = tfd.Bernoulli(probs=prob_A)\n",
    "    return (\n",
    "        rv_prob_A.log_prob(prob_A)\n",
    "        + tf.reduce_sum(rv_occurrences.log_prob(occurrences))\n",
    "    )\n",
    "\n"
   ]
  },
  {
   "cell_type": "code",
   "execution_count": 73,
   "metadata": {},
   "outputs": [
    {
     "name": "stderr",
     "output_type": "stream",
     "text": [
      "W0702 15:24:55.110295 139859267311424 deprecation.py:323] From <ipython-input-73-0997b12a1e84>:41: make_simple_step_size_update_policy (from tensorflow_probability.python.mcmc.hmc) is deprecated and will be removed after 2019-05-22.\n",
      "Instructions for updating:\n",
      "Use tfp.mcmc.SimpleStepSizeAdaptation instead.\n",
      "W0702 15:24:55.117039 139859267311424 deprecation.py:323] From /home/harshit/workspace/tflow2/lib/python3.7/site-packages/tensorflow_probability/python/distributions/uniform.py:182: add_dispatch_support.<locals>.wrapper (from tensorflow.python.ops.array_ops) is deprecated and will be removed in a future version.\n",
      "Instructions for updating:\n",
      "Use tf.where in 2.0, which has the same broadcast rule as np.where\n"
     ]
    },
    {
     "ename": "AttributeError",
     "evalue": "module 'tensorflow' has no attribute 'global_variables_initializer'",
     "output_type": "error",
     "traceback": [
      "\u001b[0;31m---------------------------------------------------------------------------\u001b[0m",
      "\u001b[0;31mAttributeError\u001b[0m                            Traceback (most recent call last)",
      "\u001b[0;32m<ipython-input-73-0997b12a1e84>\u001b[0m in \u001b[0;36m<module>\u001b[0;34m\u001b[0m\n\u001b[1;32m     53\u001b[0m \u001b[0;34m\u001b[0m\u001b[0m\n\u001b[1;32m     54\u001b[0m \u001b[0;31m# Initialize any created variables.\u001b[0m\u001b[0;34m\u001b[0m\u001b[0;34m\u001b[0m\u001b[0;34m\u001b[0m\u001b[0m\n\u001b[0;32m---> 55\u001b[0;31m \u001b[0minit_g\u001b[0m \u001b[0;34m=\u001b[0m \u001b[0mtf\u001b[0m\u001b[0;34m.\u001b[0m\u001b[0mglobal_variables_initializer\u001b[0m\u001b[0;34m(\u001b[0m\u001b[0;34m)\u001b[0m\u001b[0;34m\u001b[0m\u001b[0;34m\u001b[0m\u001b[0m\n\u001b[0m\u001b[1;32m     56\u001b[0m \u001b[0minit_l\u001b[0m \u001b[0;34m=\u001b[0m \u001b[0mtf\u001b[0m\u001b[0;34m.\u001b[0m\u001b[0mlocal_variables_initializer\u001b[0m\u001b[0;34m(\u001b[0m\u001b[0;34m)\u001b[0m\u001b[0;34m\u001b[0m\u001b[0;34m\u001b[0m\u001b[0m\n",
      "\u001b[0;31mAttributeError\u001b[0m: module 'tensorflow' has no attribute 'global_variables_initializer'"
     ]
    }
   ],
   "source": [
    "number_of_steps = 48000 #@param {type:\"slider\", min:2000, max:50000, step:100}\n",
    "#@markdown (Default is 18000).\n",
    "burnin = 25000 #@param {type:\"slider\", min:0, max:30000, step:100}\n",
    "#@markdown (Default is 1000).\n",
    "leapfrog_steps=2 #@param {type:\"slider\", min:1, max:9, step:1}\n",
    "#@markdown (Default is 6).\n",
    "\n",
    "# Set the chain's start state.\n",
    "initial_chain_state = [\n",
    "    tf.reduce_mean(tf.compat.v1.to_float(occurrences)) \n",
    "    * tf.ones([], dtype=tf.float32, name=\"init_prob_A\")\n",
    "]\n",
    "\n",
    "# Since HMC operates over unconstrained space, we need to transform the\n",
    "# samples so they live in real-space.\n",
    "unconstraining_bijectors = [\n",
    "    tfp.bijectors.Identity()   # Maps R to R.  \n",
    "]\n",
    "\n",
    "# Define a closure over our joint_log_prob.\n",
    "# The closure makes it so the HMC doesn't try to change the `occurrences` but\n",
    "# instead determines the distributions of other parameters that might generate\n",
    "# the `occurrences` we observed.\n",
    "unnormalized_posterior_log_prob = lambda *args: joint_log_prob(occurrences, *args)\n",
    "\n",
    "# Initialize the step_size. (It will be automatically adapted.)\n",
    "with tf.compat.v1.variable_scope(tf.compat.v1.get_variable_scope(), reuse=tf.compat.v1.AUTO_REUSE):\n",
    "    step_size = tf.compat.v1.get_variable(\n",
    "        name='step_size',\n",
    "        initializer=tf.constant(0.5, dtype=tf.float32),\n",
    "        trainable=False,\n",
    "        use_resource=True\n",
    "    )\n",
    "\n",
    "# Defining the HMC\n",
    "hmc = tfp.mcmc.TransformedTransitionKernel(\n",
    "    inner_kernel=tfp.mcmc.HamiltonianMonteCarlo(\n",
    "        target_log_prob_fn=unnormalized_posterior_log_prob,\n",
    "        num_leapfrog_steps=leapfrog_steps,\n",
    "        step_size=step_size,\n",
    "        step_size_update_fn=tfp.mcmc.make_simple_step_size_update_policy(num_adaptation_steps=int(burnin * 0.8)),\n",
    "        state_gradients_are_stopped=True),\n",
    "    bijector=unconstraining_bijectors)\n",
    "\n",
    "# Sampling from the chain.\n",
    "[\n",
    "    posterior_prob_A\n",
    "], kernel_results = tfp.mcmc.sample_chain(\n",
    "    num_results=number_of_steps,\n",
    "    num_burnin_steps=burnin,\n",
    "    current_state=initial_chain_state,\n",
    "    kernel=hmc)\n",
    "\n"
   ]
  },
  {
   "cell_type": "code",
   "execution_count": 87,
   "metadata": {},
   "outputs": [
    {
     "name": "stdout",
     "output_type": "stream",
     "text": [
      "[<tf.Tensor: id=50969255, shape=(), dtype=float32, numpy=0.050666668>, <tf.Tensor: id=50969260, shape=(), dtype=float32, numpy=0.053333335>]\n",
      "[<tensorflow_probability.python.bijectors.identity.Identity object at 0x7f321add5f98>, <tensorflow_probability.python.bijectors.identity.Identity object at 0x7f321add5668>]\n",
      "<function <lambda> at 0x7f32146cfe18>\n",
      "TransformedTransitionKernelResults(transformed_state=[<tf.Tensor: id=112272325, shape=(37200,), dtype=float32, numpy=\n",
      "array([0.04785141, 0.05308351, 0.05308351, ..., 0.04994142, 0.0496018 ,\n",
      "       0.05375531], dtype=float32)>, <tf.Tensor: id=112272326, shape=(37200,), dtype=float32, numpy=\n",
      "array([0.07490727, 0.03502509, 0.03502509, ..., 0.06936272, 0.03935808,\n",
      "       0.06893087], dtype=float32)>], inner_results=MetropolisHastingsKernelResults(accepted_results=UncalibratedHamiltonianMonteCarloKernelResults(log_acceptance_correction=<tf.Tensor: id=112272327, shape=(37200,), dtype=float32, numpy=\n",
      "array([-0.13638744,  0.11357683,  0.11357683, ...,  0.1985376 ,\n",
      "        0.09723842, -0.06188519], dtype=float32)>, target_log_prob=<tf.Tensor: id=112272328, shape=(37200,), dtype=float32, numpy=\n",
      "array([-459.77994, -460.1797 , -460.1797 , ..., -458.49347, -458.63904,\n",
      "       -458.54953], dtype=float32)>, grads_target_log_prob=[<tf.Tensor: id=112272329, shape=(37200,), dtype=float32, numpy=\n",
      "array([ 92.68533 , -72.12162 , -72.12162 , ...,  22.926702,  33.88275 ,\n",
      "       -91.08213 ], dtype=float32)>, <tf.Tensor: id=112272330, shape=(37200,), dtype=float32, numpy=\n",
      "array([-233.49738,  406.26804,  406.26804, ..., -186.23901,  277.22006,\n",
      "       -182.27284], dtype=float32)>], step_size=[], num_leapfrog_steps=[]), is_accepted=<tf.Tensor: id=112272331, shape=(37200,), dtype=bool, numpy=array([ True,  True, False, ..., False,  True,  True])>, log_accept_ratio=<tf.Tensor: id=112272332, shape=(37200,), dtype=float32, numpy=\n",
      "array([ 0.4565386 , -0.28617293, -3.4906116 , ..., -1.0191412 ,\n",
      "       -0.04833043,  0.02762286], dtype=float32)>, proposed_state=[<tf.Tensor: id=112272333, shape=(37200,), dtype=float32, numpy=\n",
      "array([0.04785141, 0.05308351, 0.0685226 , ..., 0.04062808, 0.0496018 ,\n",
      "       0.05375531], dtype=float32)>, <tf.Tensor: id=112272334, shape=(37200,), dtype=float32, numpy=\n",
      "array([0.07490727, 0.03502509, 0.07477542, ..., 0.04230064, 0.03935808,\n",
      "       0.06893087], dtype=float32)>], proposed_results=UncalibratedHamiltonianMonteCarloKernelResults(log_acceptance_correction=<tf.Tensor: id=112272335, shape=(37200,), dtype=float32, numpy=\n",
      "array([-0.13638744,  0.11357683,  0.04622316, ...,  0.20601743,\n",
      "        0.09723842, -0.06188519], dtype=float32)>, target_log_prob=<tf.Tensor: id=112272336, shape=(37200,), dtype=float32, numpy=\n",
      "array([-459.77994, -460.1797 , -463.71652, ..., -459.71863, -458.63904,\n",
      "       -458.54953], dtype=float32)>, grads_target_log_prob=[<tf.Tensor: id=112272337, shape=(37200,), dtype=float32, numpy=\n",
      "array([  92.68533,  -72.12162, -419.63104, ...,  386.32208,   33.88275,\n",
      "        -91.08213], dtype=float32)>, <tf.Tensor: id=112272338, shape=(37200,), dtype=float32, numpy=\n",
      "array([-233.49738,  406.26804, -232.44608, ...,  204.25246,  277.22006,\n",
      "       -182.27284], dtype=float32)>], step_size=[], num_leapfrog_steps=[]), extra=HamiltonianMonteCarloExtraKernelResults(step_size_assign=<tf.Tensor: id=112272339, shape=(37200,), dtype=float32, numpy=\n",
      "array([0.00862679, 0.00862679, 0.00862679, ..., 0.00862679, 0.00862679,\n",
      "       0.00862679], dtype=float32)>)))\n",
      "tf.Tensor([0.04785141 0.05308351 0.05308351 ... 0.04994142 0.0496018  0.05375531], shape=(37200,), dtype=float32)\n"
     ]
    }
   ],
   "source": [
    "print(initial_chain_state)\n",
    "print(unconstraining_bijectors)\n",
    "print(unnormalized_posterior_log_prob)\n",
    "print(kernel_results)\n",
    "print(posterior_prob_A)"
   ]
  },
  {
   "cell_type": "code",
   "execution_count": 76,
   "metadata": {},
   "outputs": [],
   "source": [
    "# Initialize any created variables.\n",
    "init_g = tf.compat.v1.global_variables_initializer()\n",
    "init_l = tf.compat.v1.local_variables_initializer()"
   ]
  },
  {
   "cell_type": "code",
   "execution_count": 77,
   "metadata": {},
   "outputs": [
    {
     "name": "stdout",
     "output_type": "stream",
     "text": [
      "acceptance rate: 0.517375\n"
     ]
    }
   ],
   "source": [
    "\n",
    "\n",
    "evaluate(init_g)\n",
    "evaluate(init_l)\n",
    "[\n",
    "    posterior_prob_A_,\n",
    "    kernel_results_,\n",
    "] = evaluate([\n",
    "    posterior_prob_A,\n",
    "    kernel_results,\n",
    "])\n",
    "\n",
    "    \n",
    "print(\"acceptance rate: {}\".format(\n",
    "    kernel_results_.inner_results.is_accepted.mean()))\n",
    "\n",
    "burned_prob_A_trace_ = posterior_prob_A_[burnin:]\n",
    "\n"
   ]
  },
  {
   "cell_type": "code",
   "execution_count": 78,
   "metadata": {},
   "outputs": [
    {
     "data": {
      "image/png": "[encoded data removed]",
      "text/plain": [
       "<Figure size 900x288 with 1 Axes>"
      ]
     },
     "metadata": {
      "image/png": {
       "height": 267,
       "width": 820
      },
      "needs_background": "light"
     },
     "output_type": "display_data"
    }
   ],
   "source": [
    "plt.figure(figsize(12.5, 4))\n",
    "plt.title(\"Posterior distribution of $p_A$, the true effectiveness of site A\")\n",
    "plt.vlines(prob_true, 0, 90, linestyle=\"--\", label=\"true $p_A$ (unknown)\")\n",
    "plt.hist(burned_prob_A_trace_, bins=25, histtype=\"stepfilled\", normed=True)\n",
    "plt.legend();"
   ]
  },
  {
   "cell_type": "code",
   "execution_count": 79,
   "metadata": {},
   "outputs": [
    {
     "name": "stdout",
     "output_type": "stream",
     "text": [
      "Obs from Site A:  [0 0 0 0 0 0 0 0 0 0 0 0 0 0 0 0 0 0 0 0 0 0 0 0 0 0 0 0 0 0] ...\n",
      "Observed Prob_A:  0.050666666666666665 ...\n",
      "Obs from Site B:  [0 0 1 0 0 0 0 0 0 0 1 0 0 0 0 0 0 0 1 0 0 0 0 0 0 0 0 0 0 0] ...\n",
      "Observed Prob_B:  0.05333333333333334\n"
     ]
    }
   ],
   "source": [
    "\n",
    "\n",
    "reset_sess()\n",
    "\n",
    "#these two quantities are unknown to us.\n",
    "true_prob_A_ = 0.05\n",
    "true_prob_B_ = 0.04\n",
    "\n",
    "#notice the unequal sample sizes -- no problem in Bayesian analysis.\n",
    "N_A_ = 1500\n",
    "N_B_ = 750\n",
    "\n",
    "#generate some observations\n",
    "observations_A = tfd.Bernoulli(name=\"obs_A\", \n",
    "                          probs=true_prob_A_).sample(sample_shape=N_A_, seed=6.45)\n",
    "observations_B = tfd.Bernoulli(name=\"obs_B\", \n",
    "                          probs=true_prob_B_).sample(sample_shape=N_B_, seed=6.45)\n",
    "[ \n",
    "    observations_A_,\n",
    "    observations_B_,\n",
    "] = evaluate([ \n",
    "    observations_A, \n",
    "    observations_B, \n",
    "])\n",
    "\n",
    "print(\"Obs from Site A: \", observations_A_[:30], \"...\")\n",
    "print(\"Observed Prob_A: \", np.mean(observations_A_), \"...\")\n",
    "print(\"Obs from Site B: \", observations_B_[:30], \"...\")\n",
    "print(\"Observed Prob_B: \", np.mean(observations_B_))\n",
    "\n"
   ]
  },
  {
   "cell_type": "code",
   "execution_count": 80,
   "metadata": {},
   "outputs": [],
   "source": [
    "\n",
    "\n",
    "def delta(prob_A, prob_B):\n",
    "    \"\"\"\n",
    "    Defining the deterministic delta function. This is our unknown of interest.\n",
    "        \n",
    "    Args:\n",
    "      prob_A: scalar estimate of the probability of a 1 appearing in \n",
    "                observation set A\n",
    "      prob_B: scalar estimate of the probability of a 1 appearing in \n",
    "                observation set B\n",
    "    Returns: \n",
    "      Difference between prob_A and prob_B\n",
    "    \"\"\"\n",
    "    return prob_A - prob_B\n",
    "\n",
    "  \n",
    "def double_joint_log_prob(observations_A, observations_B, \n",
    "                   prob_A, prob_B):\n",
    "    \"\"\"\n",
    "    Joint log probability optimization function.\n",
    "        \n",
    "    Args:\n",
    "      observations_A: An array of binary values representing the set of \n",
    "                      observations for site A\n",
    "      observations_B: An array of binary values representing the set of \n",
    "                      observations for site B \n",
    "      prob_A: scalar estimate of the probability of a 1 appearing in \n",
    "                observation set A\n",
    "      prob_B: scalar estimate of the probability of a 1 appearing in \n",
    "                observation set B \n",
    "    Returns: \n",
    "      Joint log probability optimization function.\n",
    "    \"\"\"\n",
    "    tfd = tfp.distributions\n",
    "  \n",
    "    rv_prob_A = tfd.Uniform(low=0., high=1.)\n",
    "    rv_prob_B = tfd.Uniform(low=0., high=1.)\n",
    "  \n",
    "    rv_obs_A = tfd.Bernoulli(probs=prob_A)\n",
    "    rv_obs_B = tfd.Bernoulli(probs=prob_B)\n",
    "  \n",
    "    return (\n",
    "        rv_prob_A.log_prob(prob_A)\n",
    "        + rv_prob_B.log_prob(prob_B)\n",
    "        + tf.reduce_sum(rv_obs_A.log_prob(observations_A))\n",
    "        + tf.reduce_sum(rv_obs_B.log_prob(observations_B))\n",
    "    )\n",
    "\n"
   ]
  },
  {
   "cell_type": "code",
   "execution_count": 84,
   "metadata": {},
   "outputs": [],
   "source": [
    "number_of_steps = 37200 #@param {type:\"slider\", min:2000, max:50000, step:100}\n",
    "#@markdown (Default is 18000).\n",
    "burnin = 1000 #@param {type:\"slider\", min:0, max:30000, step:100}\n",
    "#@markdown (Default is 1000).\n",
    "leapfrog_steps=3 #@param {type:\"slider\", min:1, max:9, step:1}\n",
    "#@markdown (Default is 6).\n",
    "\n",
    "\n",
    "# Set the chain's start state.\n",
    "initial_chain_state = [    \n",
    "    tf.reduce_mean(tf.compat.v1.to_float(observations_A)) * tf.ones([], dtype=tf.float32, name=\"init_prob_A\"),\n",
    "    tf.reduce_mean(tf.compat.v1.to_float(observations_B)) * tf.ones([], dtype=tf.float32, name=\"init_prob_B\")\n",
    "]\n",
    "\n",
    "# Since HMC operates over unconstrained space, we need to transform the\n",
    "# samples so they live in real-space.\n",
    "unconstraining_bijectors = [\n",
    "    tfp.bijectors.Identity(),   # Maps R to R.\n",
    "    tfp.bijectors.Identity()    # Maps R to R.\n",
    "]\n",
    "\n",
    "# Define a closure over our joint_log_prob.\n",
    "unnormalized_posterior_log_prob = lambda *args: double_joint_log_prob(observations_A, observations_B, *args)\n",
    "\n",
    "# Initialize the step_size. (It will be automatically adapted.)\n",
    "with tf.compat.v1.variable_scope(tf.compat.v1.get_variable_scope(), reuse=tf.compat.v1.AUTO_REUSE):\n",
    "    step_size = tf.compat.v1.get_variable(\n",
    "        name='step_size',\n",
    "        initializer=tf.constant(0.5, dtype=tf.float32),\n",
    "        trainable=False,\n",
    "        use_resource=True\n",
    "    )\n",
    "\n",
    "# Defining the HMC\n",
    "hmc=tfp.mcmc.TransformedTransitionKernel(\n",
    "    inner_kernel=tfp.mcmc.HamiltonianMonteCarlo(\n",
    "        target_log_prob_fn=unnormalized_posterior_log_prob,\n",
    "        num_leapfrog_steps=3,\n",
    "        step_size=step_size,\n",
    "        step_size_update_fn=tfp.mcmc.make_simple_step_size_update_policy(num_adaptation_steps=int(burnin * 0.8)),\n",
    "        state_gradients_are_stopped=True),\n",
    "    bijector=unconstraining_bijectors)\n",
    "\n",
    "# Sample from the chain.\n",
    "[\n",
    "    posterior_prob_A,\n",
    "    posterior_prob_B\n",
    "], kernel_results = tfp.mcmc.sample_chain(\n",
    "    num_results=number_of_steps,\n",
    "    num_burnin_steps=burnin,\n",
    "    current_state=initial_chain_state,\n",
    "    kernel=hmc)\n",
    "\n",
    "# Initialize any created variables.\n",
    "init_g = tf.compat.v1.global_variables_initializer()\n",
    "init_l = tf.compat.v1.local_variables_initializer()"
   ]
  },
  {
   "cell_type": "code",
   "execution_count": null,
   "metadata": {},
   "outputs": [],
   "source": []
  }
 ],
 "metadata": {
  "kernelspec": {
   "display_name": "Python 3",
   "language": "python",
   "name": "python3"
  },
  "language_info": {
   "codemirror_mode": {
    "name": "ipython",
    "version": 3
   },
   "file_extension": ".py",
   "mimetype": "text/x-python",
   "name": "python",
   "nbconvert_exporter": "python",
   "pygments_lexer": "ipython3",
   "version": "3.7.3"
  }
 },
 "nbformat": 4,
 "nbformat_minor": 2
}
